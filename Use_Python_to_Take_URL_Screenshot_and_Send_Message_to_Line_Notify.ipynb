{
  "cells": [
    {
      "cell_type": "markdown",
      "metadata": {
        "id": "view-in-github",
        "colab_type": "text"
      },
      "source": [
        "<a href=\"https://colab.research.google.com/github/cclljj/Google_colab_ipynb/blob/master/Use_Python_to_Take_URL_Screenshot_and_Send_Message_to_Line_Notify.ipynb\" target=\"_parent\"><img src=\"https://colab.research.google.com/assets/colab-badge.svg\" alt=\"Open In Colab\"/></a>"
      ]
    },
    {
      "cell_type": "markdown",
      "metadata": {
        "id": "VzPuqjXiv7v-"
      },
      "source": [
        "# 網頁畫面批次擷取工具\n",
        "\n",
        "功能簡述：\n",
        "- 根據輸入的 URL 列表，擷取每一個 URL 的瀏覽器瀏覽畫面圖片\n",
        "- 根據設定的排列方式，將所有產生的圖片整併成一張大圖\n",
        "- 將產製出來的整併圖，送至預先設定好的 Line Notify 帳號"
      ]
    },
    {
      "cell_type": "code",
      "execution_count": null,
      "metadata": {
        "id": "9Vp4h0tJIdT_"
      },
      "outputs": [],
      "source": [
        "# 安裝相關函式庫\n",
        "!apt update\n",
        "!apt install chromium-chromedriver\n",
        "!pip install selenium"
      ]
    },
    {
      "cell_type": "code",
      "execution_count": null,
      "metadata": {
        "id": "-AIUyxB0IQlK"
      },
      "outputs": [],
      "source": [
        "# 匯入相關函式庫\n",
        "from selenium import webdriver\n",
        "from time import sleep \n",
        "from PIL import Image\n",
        "import numpy as np\n",
        "from datetime import datetime\n",
        "import requests\n",
        "\n",
        "# 初始化設定\n",
        "options = webdriver.ChromeOptions()\n",
        "options.add_argument('--headless')\n",
        "options.add_argument('--no-sandbox')\n",
        "options.add_argument(\"--window-size=1280x1024\")\n",
        "options.add_argument('--ignore-certificate-errors')\n",
        "options.add_argument('--ignore-certificate-errors-spki-list')\n",
        "options.add_argument('--ignore-ssl-errors')\n",
        "options.add_argument('--disable-dev-shm-usage')"
      ]
    },
    {
      "cell_type": "code",
      "execution_count": null,
      "metadata": {
        "id": "jsBV_e1mZKRi"
      },
      "outputs": [],
      "source": [
        "# ====================================\n",
        "# 請根據需求修改此段落的相關設定\n",
        "\n",
        "# 請依照範例設定所需要產製的網站畫面網址列表\n",
        "\n",
        "urls = [\n",
        "        \"https://www.google.com\",\n",
        "        \"https://www.microsoft.com\",\n",
        "        \"https://www.apple.com\",\n",
        "        \"https://www.amazon.com\",\n",
        "]\n",
        "\n",
        "# LINE Notify 權杖\n",
        "Line_tokens = ['your_line_notify_token_1', # 1st token\n",
        "               'your_line_notify_token_2', # 2st token\n",
        "]\n",
        "\n",
        "# 最後輸出檔的檔案名稱\n",
        "fname_out = \"output.jpg\"\n",
        "fname_out_resize = \"output_resize.jpg\"\n",
        "\n",
        "# 圖片中每一列的網站數目\n",
        "num_of_col = 5\n",
        "\n",
        "# ===================================="
      ]
    },
    {
      "cell_type": "code",
      "execution_count": null,
      "metadata": {
        "colab": {
          "background_save": true
        },
        "id": "Id917lBwJVTB"
      },
      "outputs": [],
      "source": [
        "# 依照輸入的網址列表，依序產製個別的網站截圖\n",
        "\n",
        "fnames = []\n",
        "\n",
        "wd = webdriver.Chrome(options=options)\n",
        "wd.set_page_load_timeout(30)\n",
        "for i in range(0, len(urls)):\n",
        "  try:\n",
        "    wd.get(urls[i])\n",
        "    sleep(1)\n",
        "    wd.get_screenshot_as_file(str(i) + \".png\") \n",
        "    print(i+1, \"/\", len(urls), urls[i], \"Success!\")\n",
        "    fnames.append(str(i) + \".png\")\n",
        "  except Exception as e:\n",
        "    print(i,urls[i], \"Error!\")\n",
        "    print(e)\n",
        "\n",
        "if len(fnames) % num_of_col:\n",
        "  white_img = Image.new('RGB', (1280, 1024), color = (255,255,255))\n",
        "  white_img.save(\"white.png\")\n",
        "  for i in range(0, num_of_col - len(fnames) % num_of_col):\n",
        "    fnames.append(\"white.png\")\n",
        "  "
      ]
    },
    {
      "cell_type": "code",
      "execution_count": null,
      "metadata": {
        "colab": {
          "background_save": true
        },
        "id": "dar-8X3qbfpi"
      },
      "outputs": [],
      "source": [
        "# 將個別的網站截圖彙整成一張大圖\n",
        "\n",
        "def pil_grid(images, max_horiz=np.iinfo(int).max):\n",
        "    n_images = len(images)\n",
        "    n_horiz = min(n_images, max_horiz)\n",
        "    h_sizes, v_sizes = [0] * n_horiz, [0] * (n_images // n_horiz)\n",
        "    for i, im in enumerate(images):\n",
        "        h, v = i % n_horiz, i // n_horiz\n",
        "        h_sizes[h] = max(h_sizes[h], im.size[0])\n",
        "        v_sizes[v] = max(v_sizes[v], im.size[1])\n",
        "    h_sizes, v_sizes = np.cumsum([0] + h_sizes), np.cumsum([0] + v_sizes)\n",
        "    im_grid = Image.new('RGB', (h_sizes[-1], v_sizes[-1]), color='white')\n",
        "    for i, im in enumerate(images):\n",
        "        im_grid.paste(im, (h_sizes[i % n_horiz], v_sizes[i // n_horiz]))\n",
        "    return im_grid\n",
        "\n",
        "imgs    = [ Image.open(i) for i in fnames ]\n",
        "final_img = pil_grid(imgs, num_of_col)\n",
        "final_img.save(fname_out)\n",
        "#final_img"
      ]
    },
    {
      "cell_type": "code",
      "execution_count": null,
      "metadata": {
        "id": "IvXwWXAvKMX0"
      },
      "outputs": [],
      "source": [
        "resize_img = final_img.resize((1024,1024))\n",
        "resize_img.save(fname_out_resize)\n",
        "\n",
        "# 要發送的訊息\n",
        "now = datetime.now()\n",
        "message = now.strftime(\"%d/%m/%Y %H:%M:%S\")\n",
        "\n",
        "for Line_token in Line_tokens:\n",
        "  # HTTP 標頭參數與資料\n",
        "  headers = { \"Authorization\": \"Bearer \" + Line_token }\n",
        "  data = { 'message': message }\n",
        "\n",
        "  # 要傳送的圖片檔案\n",
        "  image = open(fname_out_resize, 'rb')\n",
        "  files = { 'imageFile': image }\n",
        "\n",
        "  # 以 requests 發送 POST 請求\n",
        "  requests.post(\"https://notify-api.line.me/api/notify\",\n",
        "    headers = headers, data = data, files = files)"
      ]
    },
    {
      "cell_type": "code",
      "execution_count": null,
      "metadata": {
        "id": "_9_HtqpavNTT"
      },
      "outputs": [],
      "source": [
        "# 將過程中產製的中繼圖片刪除\n",
        "for fname in fnames:\n",
        "  if os.path.exists(fname):\n",
        "    os.remove(fname)"
      ]
    },
    {
      "cell_type": "markdown",
      "source": [
        "# Reference\n",
        "- [Use selenium in Colab](https://gist.github.com/korakot/5c8e21a5af63966d80a676af0ce15067)\n",
        "- [Combine several images horizontally with Python - Stack Overflow](https://stackoverflow.com/questions/30227466/combine-several-images-horizontally-with-python)\n",
        "- [Python 以 LINE Notify 自動傳送即時訊息、圖片教學與範例 - Office 指南](https://officeguide.cc/python-line-notify-send-messages-images-tutorial-examples/)"
      ],
      "metadata": {
        "id": "rVTuBvgCDT6_"
      }
    }
  ],
  "metadata": {
    "colab": {
      "collapsed_sections": [],
      "name": "Use_Python_to_Take_URL_Screenshot_and_Send_Message_to_Line_Notify.ipynb",
      "provenance": [],
      "authorship_tag": "ABX9TyN1hXYndtgRRABQ2DqowRdI",
      "include_colab_link": true
    },
    "kernelspec": {
      "display_name": "Python 3",
      "name": "python3"
    },
    "language_info": {
      "name": "python"
    }
  },
  "nbformat": 4,
  "nbformat_minor": 0
}