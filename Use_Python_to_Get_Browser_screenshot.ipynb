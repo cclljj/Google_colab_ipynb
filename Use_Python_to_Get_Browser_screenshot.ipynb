{
  "nbformat": 4,
  "nbformat_minor": 0,
  "metadata": {
    "colab": {
      "name": "Use_Python_to_Get_Browser_screenshot.ipynb",
      "provenance": [],
      "collapsed_sections": [],
      "authorship_tag": "ABX9TyOw7fGgK1GH1yofzAC02CUs",
      "include_colab_link": true
    },
    "kernelspec": {
      "name": "python3",
      "display_name": "Python 3"
    },
    "language_info": {
      "name": "python"
    }
  },
  "cells": [
    {
      "cell_type": "markdown",
      "metadata": {
        "id": "view-in-github",
        "colab_type": "text"
      },
      "source": [
        "<a href=\"https://colab.research.google.com/github/cclljj/Google_colab_ipynb/blob/master/Use_Python_to_Get_Browser_screenshot.ipynb\" target=\"_parent\"><img src=\"https://colab.research.google.com/assets/colab-badge.svg\" alt=\"Open In Colab\"/></a>"
      ]
    },
    {
      "cell_type": "markdown",
      "source": [
        "# 網頁畫面批次擷取工具\n"
      ],
      "metadata": {
        "id": "VzPuqjXiv7v-"
      }
    },
    {
      "cell_type": "code",
      "source": [
        "# 安裝相關函式庫\n",
        "!apt update\n",
        "!apt install chromium-chromedriver\n",
        "!pip install selenium"
      ],
      "metadata": {
        "colab": {
          "base_uri": "https://localhost:8080/"
        },
        "id": "9Vp4h0tJIdT_",
        "outputId": "e153cc2f-6d89-4d37-a45c-1011ab52ebda"
      },
      "execution_count": 128,
      "outputs": [
        {
          "output_type": "stream",
          "name": "stdout",
          "text": [
            "\u001b[33m\r0% [Working]\u001b[0m\r            \rGet:1 http://security.ubuntu.com/ubuntu bionic-security InRelease [88.7 kB]\n",
            "\u001b[33m\r0% [Connecting to archive.ubuntu.com (185.125.190.36)] [1 InRelease 14.2 kB/88.\u001b[0m\r                                                                               \rHit:2 https://cloud.r-project.org/bin/linux/ubuntu bionic-cran40/ InRelease\n",
            "\u001b[33m\r0% [Waiting for headers] [1 InRelease 43.1 kB/88.7 kB 49%] [Waiting for headers\u001b[0m\u001b[33m\r0% [2 InRelease gpgv 3,626 B] [Waiting for headers] [1 InRelease 43.1 kB/88.7 k\u001b[0m\u001b[33m\r0% [2 InRelease gpgv 3,626 B] [Waiting for headers] [Waiting for headers] [Wait\u001b[0m\r                                                                               \rIgn:3 https://developer.download.nvidia.com/compute/machine-learning/repos/ubuntu1804/x86_64  InRelease\n",
            "\u001b[33m\r0% [2 InRelease gpgv 3,626 B] [Waiting for headers] [Waiting for headers] [Wait\u001b[0m\r                                                                               \rHit:4 http://ppa.launchpad.net/c2d4u.team/c2d4u4.0+/ubuntu bionic InRelease\n",
            "\u001b[33m\r0% [2 InRelease gpgv 3,626 B] [Waiting for headers] [Waiting for headers] [Conn\u001b[0m\r                                                                               \rHit:5 http://archive.ubuntu.com/ubuntu bionic InRelease\n",
            "Hit:6 https://developer.download.nvidia.com/compute/cuda/repos/ubuntu1804/x86_64  InRelease\n",
            "Hit:7 https://developer.download.nvidia.com/compute/machine-learning/repos/ubuntu1804/x86_64  Release\n",
            "Get:8 http://archive.ubuntu.com/ubuntu bionic-updates InRelease [88.7 kB]\n",
            "Hit:9 http://ppa.launchpad.net/cran/libgit2/ubuntu bionic InRelease\n",
            "Hit:10 http://ppa.launchpad.net/deadsnakes/ppa/ubuntu bionic InRelease\n",
            "Get:11 http://archive.ubuntu.com/ubuntu bionic-backports InRelease [74.6 kB]\n",
            "Hit:12 http://ppa.launchpad.net/graphics-drivers/ppa/ubuntu bionic InRelease\n",
            "Fetched 252 kB in 2s (133 kB/s)\n",
            "Reading package lists... Done\n",
            "Building dependency tree       \n",
            "Reading state information... Done\n",
            "26 packages can be upgraded. Run 'apt list --upgradable' to see them.\n",
            "Reading package lists... Done\n",
            "Building dependency tree       \n",
            "Reading state information... Done\n",
            "chromium-chromedriver is already the newest version (103.0.5060.134-0ubuntu0.18.04.1).\n",
            "The following package was automatically installed and is no longer required:\n",
            "  libnvidia-common-460\n",
            "Use 'apt autoremove' to remove it.\n",
            "0 upgraded, 0 newly installed, 0 to remove and 26 not upgraded.\n",
            "Looking in indexes: https://pypi.org/simple, https://us-python.pkg.dev/colab-wheels/public/simple/\n",
            "Requirement already satisfied: selenium in /usr/local/lib/python3.7/dist-packages (4.3.0)\n",
            "Requirement already satisfied: urllib3[secure,socks]~=1.26 in /usr/local/lib/python3.7/dist-packages (from selenium) (1.26.11)\n",
            "Requirement already satisfied: trio-websocket~=0.9 in /usr/local/lib/python3.7/dist-packages (from selenium) (0.9.2)\n",
            "Requirement already satisfied: trio~=0.17 in /usr/local/lib/python3.7/dist-packages (from selenium) (0.21.0)\n",
            "Requirement already satisfied: outcome in /usr/local/lib/python3.7/dist-packages (from trio~=0.17->selenium) (1.2.0)\n",
            "Requirement already satisfied: idna in /usr/local/lib/python3.7/dist-packages (from trio~=0.17->selenium) (2.10)\n",
            "Requirement already satisfied: async-generator>=1.9 in /usr/local/lib/python3.7/dist-packages (from trio~=0.17->selenium) (1.10)\n",
            "Requirement already satisfied: sniffio in /usr/local/lib/python3.7/dist-packages (from trio~=0.17->selenium) (1.2.0)\n",
            "Requirement already satisfied: attrs>=19.2.0 in /usr/local/lib/python3.7/dist-packages (from trio~=0.17->selenium) (22.1.0)\n",
            "Requirement already satisfied: sortedcontainers in /usr/local/lib/python3.7/dist-packages (from trio~=0.17->selenium) (2.4.0)\n",
            "Requirement already satisfied: wsproto>=0.14 in /usr/local/lib/python3.7/dist-packages (from trio-websocket~=0.9->selenium) (1.1.0)\n",
            "Requirement already satisfied: PySocks!=1.5.7,<2.0,>=1.5.6 in /usr/local/lib/python3.7/dist-packages (from urllib3[secure,socks]~=1.26->selenium) (1.7.1)\n",
            "Requirement already satisfied: certifi in /usr/local/lib/python3.7/dist-packages (from urllib3[secure,socks]~=1.26->selenium) (2022.6.15)\n",
            "Requirement already satisfied: cryptography>=1.3.4 in /usr/local/lib/python3.7/dist-packages (from urllib3[secure,socks]~=1.26->selenium) (37.0.4)\n",
            "Requirement already satisfied: pyOpenSSL>=0.14 in /usr/local/lib/python3.7/dist-packages (from urllib3[secure,socks]~=1.26->selenium) (22.0.0)\n",
            "Requirement already satisfied: cffi>=1.12 in /usr/local/lib/python3.7/dist-packages (from cryptography>=1.3.4->urllib3[secure,socks]~=1.26->selenium) (1.15.1)\n",
            "Requirement already satisfied: pycparser in /usr/local/lib/python3.7/dist-packages (from cffi>=1.12->cryptography>=1.3.4->urllib3[secure,socks]~=1.26->selenium) (2.21)\n",
            "Requirement already satisfied: h11<1,>=0.9.0 in /usr/local/lib/python3.7/dist-packages (from wsproto>=0.14->trio-websocket~=0.9->selenium) (0.13.0)\n",
            "Requirement already satisfied: typing-extensions in /usr/local/lib/python3.7/dist-packages (from h11<1,>=0.9.0->wsproto>=0.14->trio-websocket~=0.9->selenium) (4.1.1)\n"
          ]
        }
      ]
    },
    {
      "cell_type": "code",
      "execution_count": 129,
      "metadata": {
        "id": "-AIUyxB0IQlK"
      },
      "outputs": [],
      "source": [
        "from selenium import webdriver\n",
        "from time import sleep \n",
        "from PIL import Image\n",
        "import numpy as np\n",
        "\n",
        "options = webdriver.ChromeOptions()\n",
        "options.add_argument('--headless')\n",
        "options.add_argument('--no-sandbox')\n",
        "options.add_argument(\"--window-size=1280x1024\")\n",
        "options.add_argument('--ignore-certificate-errors')\n",
        "options.add_argument('--ignore-certificate-errors-spki-list')\n",
        "options.add_argument('--ignore-ssl-errors')\n",
        "options.add_argument('--disable-dev-shm-usage')"
      ]
    },
    {
      "cell_type": "code",
      "source": [
        "# 請依照範例設定所需要產製的網站畫面網址列表\n",
        "\n",
        "sites = {\"1\": \"https://www.google.com\",\n",
        "         \"2\": \"https://www.microsoft.com\",\n",
        "         \"3\": \"https://www.apple.com\",\n",
        "         \"4\": \"https://www.amazon.com\"}\n",
        "\n",
        "# 最後輸出檔的檔案名稱\n",
        "fname_out = \"output.png\"\n",
        "\n",
        "# 圖片中每一列的網站數目\n",
        "num_of_col = 3"
      ],
      "metadata": {
        "id": "jsBV_e1mZKRi"
      },
      "execution_count": 134,
      "outputs": []
    },
    {
      "cell_type": "code",
      "source": [
        "# 依照輸入的網址列表，依序產製個別的網站截圖\n",
        "\n",
        "fnames = []\n",
        "\n",
        "wd = webdriver.Chrome(options=options)\n",
        "for fname in sites:\n",
        "  wd.get(sites[fname])\n",
        "  wd.page_source.encode(\"utf-8\")\n",
        "  #print(wd.page_source)  # results\n",
        "  sleep(1)\n",
        "  wd.get_screenshot_as_file(str(fname) + \".png\") \n",
        "  fnames.append(str(fname) + \".png\")\n",
        "\n",
        "if len(fnames) % num_of_col:\n",
        "  white_img = Image.new('RGB', (1280, 1024), color = (255,255,255))\n",
        "  white_img.save(\"white.png\")\n",
        "  for i in range(0, num_of_col - len(fnames) % num_of_col):\n",
        "    fnames.append(\"white.png\")\n",
        "  "
      ],
      "metadata": {
        "id": "Id917lBwJVTB"
      },
      "execution_count": 135,
      "outputs": []
    },
    {
      "cell_type": "code",
      "source": [
        "# 將個別的網站截圖彙整成一張大圖\n",
        "\n",
        "def pil_grid(images, max_horiz=np.iinfo(int).max):\n",
        "    n_images = len(images)\n",
        "    n_horiz = min(n_images, max_horiz)\n",
        "    h_sizes, v_sizes = [0] * n_horiz, [0] * (n_images // n_horiz)\n",
        "    for i, im in enumerate(images):\n",
        "        h, v = i % n_horiz, i // n_horiz\n",
        "        h_sizes[h] = max(h_sizes[h], im.size[0])\n",
        "        v_sizes[v] = max(v_sizes[v], im.size[1])\n",
        "    h_sizes, v_sizes = np.cumsum([0] + h_sizes), np.cumsum([0] + v_sizes)\n",
        "    im_grid = Image.new('RGB', (h_sizes[-1], v_sizes[-1]), color='white')\n",
        "    for i, im in enumerate(images):\n",
        "        im_grid.paste(im, (h_sizes[i % n_horiz], v_sizes[i // n_horiz]))\n",
        "    return im_grid\n",
        "\n",
        "imgs    = [ Image.open(i) for i in fnames ]\n",
        "final_img = pil_grid(imgs, num_of_col)\n",
        "final_img.save(fname_out)"
      ],
      "metadata": {
        "id": "dar-8X3qbfpi"
      },
      "execution_count": 136,
      "outputs": []
    },
    {
      "cell_type": "code",
      "source": [
        "# 將過程中產製的中繼圖片刪除\n",
        "\n",
        "for fname in fnames:\n",
        "  if os.path.exists(fname):\n",
        "    os.remove(fname)"
      ],
      "metadata": {
        "id": "_9_HtqpavNTT"
      },
      "execution_count": 137,
      "outputs": []
    }
  ]
}